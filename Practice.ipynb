{
  "nbformat": 4,
  "nbformat_minor": 0,
  "metadata": {
    "colab": {
      "name": "Untitled0.ipynb",
      "provenance": [],
      "authorship_tag": "ABX9TyODqFKUfsJiRKtoTsKT1oud"
    },
    "kernelspec": {
      "name": "python3",
      "display_name": "Python 3"
    },
    "language_info": {
      "name": "python"
    }
  },
  "cells": [
    {
      "cell_type": "code",
      "execution_count": null,
      "metadata": {
        "colab": {
          "base_uri": "https://localhost:8080/"
        },
        "id": "2ttsTfQppq8n",
        "outputId": "c294d236-f29b-4d1d-eb90-4c1a11141f83"
      },
      "outputs": [
        {
          "output_type": "stream",
          "name": "stdout",
          "text": [
            "tensor([[ 20.,  40.,  60.,  80.],\n",
            "        [100., 120., 140., 160.],\n",
            "        [180., 200., 220., 240.]]) <- gradient\n"
          ]
        }
      ],
      "source": [
        "import torch\n",
        "\n",
        "x = torch.tensor(\n",
        "    [[1.,  2.,  3.,  4.],\n",
        "     [5.,  6.,  7.,  8.],\n",
        "     [9., 10., 11., 12.]], requires_grad=True)\n",
        "\n",
        "#######\n",
        "device = torch.device('cuda:0' \n",
        "                      if torch.cuda.is_available() \n",
        "                      else 'cpu')\n",
        "x = x.to(device)\n",
        "#######\n",
        "\n",
        "function = 10 * (x ** 2).sum()\n",
        "\n",
        "function.backward()\n",
        "\n",
        "print(x.grad, '<- gradient')"
      ]
    },
    {
      "cell_type": "code",
      "source": [
        "import torch\n",
        "\n",
        "w = torch.tensor(\n",
        "    [[5.,10.],\n",
        "     [1.,2.]], requires_grad=True)\n",
        "\n",
        "function = torch.log(torch.log(w+7)).prod()\n",
        "\n",
        "function.backward()\n",
        "\n",
        "print(w.grad)"
      ],
      "metadata": {
        "colab": {
          "base_uri": "https://localhost:8080/"
        },
        "id": "gQWpHMn3rVyT",
        "outputId": "a5c8e0e7-a6ef-435d-8c01-1e1c387c79da"
      },
      "execution_count": null,
      "outputs": [
        {
          "output_type": "stream",
          "name": "stdout",
          "text": [
            "tensor([[0.0201, 0.0109],\n",
            "        [0.0449, 0.0351]])\n"
          ]
        }
      ]
    },
    {
      "cell_type": "code",
      "source": [
        "import torch\n",
        "\n",
        "w = torch.tensor([[5., 10.], [1., 2.]], requires_grad=True)\n",
        "alpha = 0.001\n",
        "\n",
        "for _ in range(500):\n",
        "    function = (w + 7).log().log().prod()\n",
        "    function.backward()\n",
        "    w.data -=  alpha*w.grad\n",
        "    w.grad.zero_()\n",
        "\n",
        "print(w) # Код для самопроверки, не забудьте закомментировать перед"
      ],
      "metadata": {
        "colab": {
          "base_uri": "https://localhost:8080/"
        },
        "id": "T7Oyuug6tNQs",
        "outputId": "ad07c26d-1439-44c0-b373-9c40fe9dd0c5"
      },
      "execution_count": null,
      "outputs": [
        {
          "output_type": "stream",
          "name": "stdout",
          "text": [
            "tensor([[4.9900, 9.9948],\n",
            "        [0.9775, 1.9825]], requires_grad=True)\n"
          ]
        }
      ]
    },
    {
      "cell_type": "code",
      "source": [
        "import torch\n",
        "\n",
        "w = torch.tensor([[5., 10.], [1., 2.]], requires_grad=True)\n",
        "alpha = 0.001\n",
        "optimizer =  torch.optim.SGD([w], lr = 0.001)\n",
        "\n",
        "for i in range(500):\n",
        "    # it's critical to calculate function inside the loop:\n",
        "    function = (w + 7).log().log().prod()\n",
        "    function.backward()\n",
        "    optimizer.step()\n",
        "    optimizer.zero_grad()\n",
        "\n",
        "print(w) # Код для самопроверки"
      ],
      "metadata": {
        "colab": {
          "base_uri": "https://localhost:8080/"
        },
        "id": "aVmoOtlkwUrR",
        "outputId": "4180547a-610e-406a-ba98-f4aecb4d70f7"
      },
      "execution_count": null,
      "outputs": [
        {
          "output_type": "stream",
          "name": "stdout",
          "text": [
            "tensor([[4.9900, 9.9948],\n",
            "        [0.9775, 1.9825]], requires_grad=True)\n"
          ]
        }
      ]
    }
  ]
}